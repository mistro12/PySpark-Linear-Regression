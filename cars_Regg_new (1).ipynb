{
 "cells": [
  {
   "cell_type": "code",
   "execution_count": 1,
   "metadata": {},
   "outputs": [],
   "source": [
    "from pyspark.sql import SparkSession"
   ]
  },
  {
   "cell_type": "code",
   "execution_count": 2,
   "metadata": {},
   "outputs": [],
   "source": [
    "##Initiate Spark Session\n",
    "spark = SparkSession.builder.appName('cars_new').getOrCreate()"
   ]
  },
  {
   "cell_type": "code",
   "execution_count": 3,
   "metadata": {},
   "outputs": [
    {
     "data": {
      "text/html": [
       "\n",
       "            <div>\n",
       "                <p><b>SparkSession - in-memory</b></p>\n",
       "                \n",
       "        <div>\n",
       "            <p><b>SparkContext</b></p>\n",
       "\n",
       "            <p><a href=\"http://Felix-office.localdomain:4040\">Spark UI</a></p>\n",
       "\n",
       "            <dl>\n",
       "              <dt>Version</dt>\n",
       "                <dd><code>v3.1.2</code></dd>\n",
       "              <dt>Master</dt>\n",
       "                <dd><code>local[*]</code></dd>\n",
       "              <dt>AppName</dt>\n",
       "                <dd><code>cars_new</code></dd>\n",
       "            </dl>\n",
       "        </div>\n",
       "        \n",
       "            </div>\n",
       "        "
      ],
      "text/plain": [
       "<pyspark.sql.session.SparkSession at 0x2dec53f9610>"
      ]
     },
     "execution_count": 3,
     "metadata": {},
     "output_type": "execute_result"
    }
   ],
   "source": [
    "spark"
   ]
  },
  {
   "cell_type": "code",
   "execution_count": 5,
   "metadata": {},
   "outputs": [],
   "source": [
    "##Read the data file from a csv file format\n",
    "df_cars = spark.read.option('header', 'true').csv('cars.csv', inferSchema=True)"
   ]
  },
  {
   "cell_type": "code",
   "execution_count": 6,
   "metadata": {},
   "outputs": [
    {
     "name": "stdout",
     "output_type": "stream",
     "text": [
      "+----------+----------+------+------+---+\n",
      "|       Car|     Model|Volume|Weight|CO2|\n",
      "+----------+----------+------+------+---+\n",
      "|    Toyoty|      Aygo|  1000|   790| 99|\n",
      "|Mitsubishi|Space Star|  1200|  1160| 95|\n",
      "|     Skoda|    Citigo|  1000|   929| 95|\n",
      "|      Fiat|       500|   900|   865| 90|\n",
      "|      Mini|    Cooper|  1500|  1140|105|\n",
      "|        VW|       Up!|  1000|   929|105|\n",
      "|     Skoda|     Fabia|  1400|  1109| 90|\n",
      "|  Mercedes|   A-Class|  1500|  1365| 92|\n",
      "|      Ford|    Fiesta|  1500|  1112| 98|\n",
      "|      Audi|        A1|  1600|  1150| 99|\n",
      "|   Hyundai|       I20|  1100|   980| 99|\n",
      "|    Suzuki|     Swift|  1300|   990|101|\n",
      "|      Ford|    Fiesta|  1000|  1112| 99|\n",
      "|     Honda|     Civic|  1600|  1252| 94|\n",
      "|    Hundai|       I30|  1600|  1326| 97|\n",
      "|      Opel|     Astra|  1600|  1330| 97|\n",
      "|       BMW|         1|  1600|  1365| 99|\n",
      "|     Mazda|         3|  2200|  1280|104|\n",
      "|     Skoda|     Rapid|  1600|  1119|104|\n",
      "|      Ford|     Focus|  2000|  1328|105|\n",
      "+----------+----------+------+------+---+\n",
      "only showing top 20 rows\n",
      "\n"
     ]
    }
   ],
   "source": [
    "##Show the content of the file\n",
    "df_cars.show()"
   ]
  },
  {
   "cell_type": "code",
   "execution_count": 10,
   "metadata": {},
   "outputs": [
    {
     "data": {
      "text/html": [
       "<div><div id=1d7c0bd2-95ee-496c-9f31-045c93f08441 style=\"display:none; background-color:#9D6CFF; color:white; width:200px; height:30px; padding-left:5px; border-radius:4px; flex-direction:row; justify-content:space-around; align-items:center;\" onmouseover=\"this.style.backgroundColor='#BA9BF8'\" onmouseout=\"this.style.backgroundColor='#9D6CFF'\" onclick=\"window.commands?.execute('create-mitosheet-from-dataframe-output');\">See Full Dataframe in Mito</div> <script> if (window.commands.hasCommand('create-mitosheet-from-dataframe-output')) document.getElementById('1d7c0bd2-95ee-496c-9f31-045c93f08441').style.display = 'flex' </script> <table border=\"1\" class=\"dataframe\">\n",
       "  <thead>\n",
       "    <tr style=\"text-align: right;\">\n",
       "      <th></th>\n",
       "      <th>summary</th>\n",
       "      <th>Car</th>\n",
       "      <th>Model</th>\n",
       "      <th>Volume</th>\n",
       "      <th>Weight</th>\n",
       "      <th>CO2</th>\n",
       "    </tr>\n",
       "  </thead>\n",
       "  <tbody>\n",
       "    <tr>\n",
       "      <th>0</th>\n",
       "      <td>count</td>\n",
       "      <td>36</td>\n",
       "      <td>36</td>\n",
       "      <td>36</td>\n",
       "      <td>36</td>\n",
       "      <td>36</td>\n",
       "    </tr>\n",
       "    <tr>\n",
       "      <th>1</th>\n",
       "      <td>mean</td>\n",
       "      <td>None</td>\n",
       "      <td>145.0</td>\n",
       "      <td>1611.111111111111</td>\n",
       "      <td>1292.2777777777778</td>\n",
       "      <td>102.02777777777777</td>\n",
       "    </tr>\n",
       "    <tr>\n",
       "      <th>2</th>\n",
       "      <td>stddev</td>\n",
       "      <td>None</td>\n",
       "      <td>218.8412666751863</td>\n",
       "      <td>388.97504714517004</td>\n",
       "      <td>242.12388931656005</td>\n",
       "      <td>7.45457141092868</td>\n",
       "    </tr>\n",
       "    <tr>\n",
       "      <th>3</th>\n",
       "      <td>min</td>\n",
       "      <td>Audi</td>\n",
       "      <td>1</td>\n",
       "      <td>900</td>\n",
       "      <td>790</td>\n",
       "      <td>90</td>\n",
       "    </tr>\n",
       "    <tr>\n",
       "      <th>4</th>\n",
       "      <td>max</td>\n",
       "      <td>Volvo</td>\n",
       "      <td>Zafira</td>\n",
       "      <td>2500</td>\n",
       "      <td>1746</td>\n",
       "      <td>120</td>\n",
       "    </tr>\n",
       "  </tbody>\n",
       "</table></div>"
      ],
      "text/plain": [
       "  summary    Car              Model              Volume              Weight  \\\n",
       "0   count     36                 36                  36                  36   \n",
       "1    mean   None              145.0   1611.111111111111  1292.2777777777778   \n",
       "2  stddev   None  218.8412666751863  388.97504714517004  242.12388931656005   \n",
       "3     min   Audi                  1                 900                 790   \n",
       "4     max  Volvo             Zafira                2500                1746   \n",
       "\n",
       "                  CO2  \n",
       "0                  36  \n",
       "1  102.02777777777777  \n",
       "2    7.45457141092868  \n",
       "3                  90  \n",
       "4                 120  "
      ]
     },
     "execution_count": 10,
     "metadata": {},
     "output_type": "execute_result"
    }
   ],
   "source": [
    "##perform describtive statistics on the data \n",
    "df_cars.describe().toPandas()"
   ]
  },
  {
   "cell_type": "code",
   "execution_count": 15,
   "metadata": {},
   "outputs": [
    {
     "name": "stdout",
     "output_type": "stream",
     "text": [
      "root\n",
      " |-- Car: string (nullable = true)\n",
      " |-- Model: string (nullable = true)\n",
      " |-- Volume: integer (nullable = true)\n",
      " |-- Weight: integer (nullable = true)\n",
      " |-- CO2: integer (nullable = true)\n",
      "\n"
     ]
    }
   ],
   "source": [
    "##show the schema\n",
    "df_cars.printSchema()"
   ]
  },
  {
   "cell_type": "code",
   "execution_count": 17,
   "metadata": {},
   "outputs": [
    {
     "data": {
      "text/plain": [
       "5"
      ]
     },
     "execution_count": 17,
     "metadata": {},
     "output_type": "execute_result"
    }
   ],
   "source": [
    "##number of columns\n",
    "len(df_cars.columns)"
   ]
  },
  {
   "cell_type": "code",
   "execution_count": 18,
   "metadata": {},
   "outputs": [],
   "source": [
    "##Convert string columns to integer to foster the development of the model\n",
    "from pyspark.ml.feature import StringIndexer"
   ]
  },
  {
   "cell_type": "code",
   "execution_count": 37,
   "metadata": {},
   "outputs": [],
   "source": [
    "indexer = StringIndexer(inputCol=\"Car\", outputCol=\"Car_Cate\")\n",
    "indexed = indexer.fit(df_cars).transform(df_cars)"
   ]
  },
  {
   "cell_type": "code",
   "execution_count": 38,
   "metadata": {},
   "outputs": [],
   "source": [
    "indexer = StringIndexer(inputCol=\"Model\", outputCol=\"Model_Cate\")\n",
    "indexed = indexer.fit(df_cars).transform(indexed)"
   ]
  },
  {
   "cell_type": "code",
   "execution_count": 39,
   "metadata": {},
   "outputs": [
    {
     "name": "stdout",
     "output_type": "stream",
     "text": [
      "+----------+----------+------+------+---+--------+----------+\n",
      "|       Car|     Model|Volume|Weight|CO2|Car_Cate|Model_Cate|\n",
      "+----------+----------+------+------+---+--------+----------+\n",
      "|    Toyoty|      Aygo|  1000|   790| 99|    15.0|      11.0|\n",
      "|Mitsubishi|Space Star|  1200|  1160| 95|    13.0|      29.0|\n",
      "|     Skoda|    Citigo|  1000|   929| 95|     2.0|      15.0|\n",
      "|      Fiat|       500|   900|   865| 90|     7.0|       5.0|\n",
      "|      Mini|    Cooper|  1500|  1140|105|    12.0|      17.0|\n",
      "|        VW|       Up!|  1000|   929|105|    16.0|      31.0|\n",
      "|     Skoda|     Fabia|  1400|  1109| 90|     2.0|      19.0|\n",
      "|  Mercedes|   A-Class|  1500|  1365| 92|     1.0|       6.0|\n",
      "|      Ford|    Fiesta|  1500|  1112| 98|     0.0|       0.0|\n",
      "|      Audi|        A1|  1600|  1150| 99|     3.0|       7.0|\n",
      "|   Hyundai|       I20|  1100|   980| 99|    10.0|      21.0|\n",
      "|    Suzuki|     Swift|  1300|   990|101|    14.0|      30.0|\n",
      "|      Ford|    Fiesta|  1000|  1112| 99|     0.0|       0.0|\n",
      "|     Honda|     Civic|  1600|  1252| 94|     8.0|      16.0|\n",
      "|    Hundai|       I30|  1600|  1326| 97|     9.0|      22.0|\n",
      "|      Opel|     Astra|  1600|  1330| 97|     5.0|      10.0|\n",
      "|       BMW|         1|  1600|  1365| 99|     4.0|       1.0|\n",
      "|     Mazda|         3|  2200|  1280|104|    11.0|       3.0|\n",
      "|     Skoda|     Rapid|  1600|  1119|104|     2.0|      26.0|\n",
      "|      Ford|     Focus|  2000|  1328|105|     0.0|      20.0|\n",
      "+----------+----------+------+------+---+--------+----------+\n",
      "only showing top 20 rows\n",
      "\n"
     ]
    }
   ],
   "source": [
    "##the car and model column were converted to integer\n",
    "indexed.show()"
   ]
  },
  {
   "cell_type": "code",
   "execution_count": 40,
   "metadata": {},
   "outputs": [],
   "source": [
    "from pyspark.ml.linalg import Vector\n",
    "from pyspark.ml.feature import VectorAssembler"
   ]
  },
  {
   "cell_type": "code",
   "execution_count": 41,
   "metadata": {},
   "outputs": [
    {
     "data": {
      "text/plain": [
       "['Car', 'Model', 'Volume', 'Weight', 'CO2', 'Car_Cate', 'Model_Cate']"
      ]
     },
     "execution_count": 41,
     "metadata": {},
     "output_type": "execute_result"
    }
   ],
   "source": [
    "indexed.columns"
   ]
  },
  {
   "cell_type": "code",
   "execution_count": 42,
   "metadata": {},
   "outputs": [],
   "source": [
    "assembler_cars = VectorAssembler(inputCols=['Volume','Weight','Car_Cate','Model_Cate'], outputCol=\"Features\")"
   ]
  },
  {
   "cell_type": "code",
   "execution_count": 43,
   "metadata": {},
   "outputs": [
    {
     "data": {
      "text/plain": [
       "VectorAssembler_1844e6016947"
      ]
     },
     "execution_count": 43,
     "metadata": {},
     "output_type": "execute_result"
    }
   ],
   "source": [
    "assembler_cars"
   ]
  },
  {
   "cell_type": "code",
   "execution_count": 44,
   "metadata": {},
   "outputs": [],
   "source": [
    "output = assembler_cars.transform(indexed)"
   ]
  },
  {
   "cell_type": "code",
   "execution_count": 45,
   "metadata": {},
   "outputs": [
    {
     "name": "stdout",
     "output_type": "stream",
     "text": [
      "+----------+----------+------+------+---+--------+----------+--------------------+\n",
      "|       Car|     Model|Volume|Weight|CO2|Car_Cate|Model_Cate|            Features|\n",
      "+----------+----------+------+------+---+--------+----------+--------------------+\n",
      "|    Toyoty|      Aygo|  1000|   790| 99|    15.0|      11.0|[1000.0,790.0,15....|\n",
      "|Mitsubishi|Space Star|  1200|  1160| 95|    13.0|      29.0|[1200.0,1160.0,13...|\n",
      "|     Skoda|    Citigo|  1000|   929| 95|     2.0|      15.0|[1000.0,929.0,2.0...|\n",
      "|      Fiat|       500|   900|   865| 90|     7.0|       5.0|[900.0,865.0,7.0,...|\n",
      "|      Mini|    Cooper|  1500|  1140|105|    12.0|      17.0|[1500.0,1140.0,12...|\n",
      "|        VW|       Up!|  1000|   929|105|    16.0|      31.0|[1000.0,929.0,16....|\n",
      "|     Skoda|     Fabia|  1400|  1109| 90|     2.0|      19.0|[1400.0,1109.0,2....|\n",
      "|  Mercedes|   A-Class|  1500|  1365| 92|     1.0|       6.0|[1500.0,1365.0,1....|\n",
      "|      Ford|    Fiesta|  1500|  1112| 98|     0.0|       0.0|[1500.0,1112.0,0....|\n",
      "|      Audi|        A1|  1600|  1150| 99|     3.0|       7.0|[1600.0,1150.0,3....|\n",
      "|   Hyundai|       I20|  1100|   980| 99|    10.0|      21.0|[1100.0,980.0,10....|\n",
      "|    Suzuki|     Swift|  1300|   990|101|    14.0|      30.0|[1300.0,990.0,14....|\n",
      "|      Ford|    Fiesta|  1000|  1112| 99|     0.0|       0.0|[1000.0,1112.0,0....|\n",
      "|     Honda|     Civic|  1600|  1252| 94|     8.0|      16.0|[1600.0,1252.0,8....|\n",
      "|    Hundai|       I30|  1600|  1326| 97|     9.0|      22.0|[1600.0,1326.0,9....|\n",
      "|      Opel|     Astra|  1600|  1330| 97|     5.0|      10.0|[1600.0,1330.0,5....|\n",
      "|       BMW|         1|  1600|  1365| 99|     4.0|       1.0|[1600.0,1365.0,4....|\n",
      "|     Mazda|         3|  2200|  1280|104|    11.0|       3.0|[2200.0,1280.0,11...|\n",
      "|     Skoda|     Rapid|  1600|  1119|104|     2.0|      26.0|[1600.0,1119.0,2....|\n",
      "|      Ford|     Focus|  2000|  1328|105|     0.0|      20.0|[2000.0,1328.0,0....|\n",
      "+----------+----------+------+------+---+--------+----------+--------------------+\n",
      "only showing top 20 rows\n",
      "\n"
     ]
    }
   ],
   "source": [
    "output.show()"
   ]
  },
  {
   "cell_type": "code",
   "execution_count": 48,
   "metadata": {},
   "outputs": [
    {
     "data": {
      "text/plain": [
       "DataFrame[features: vector, CO2: int]"
      ]
     },
     "execution_count": 48,
     "metadata": {},
     "output_type": "execute_result"
    }
   ],
   "source": [
    "output.select('features', 'CO2')"
   ]
  },
  {
   "cell_type": "code",
   "execution_count": 54,
   "metadata": {},
   "outputs": [],
   "source": [
    "final_data_cars = output.select('features','CO2')"
   ]
  },
  {
   "cell_type": "code",
   "execution_count": 55,
   "metadata": {},
   "outputs": [],
   "source": [
    "train_data, test_data = final_data_cars.randomSplit([0.7,0.3])"
   ]
  },
  {
   "cell_type": "code",
   "execution_count": 57,
   "metadata": {},
   "outputs": [
    {
     "name": "stdout",
     "output_type": "stream",
     "text": [
      "+--------------------+---+\n",
      "|            features|CO2|\n",
      "+--------------------+---+\n",
      "|[900.0,865.0,7.0,...| 90|\n",
      "|[1000.0,790.0,15....| 99|\n",
      "|[1000.0,929.0,16....|105|\n",
      "|[1000.0,1112.0,0....| 99|\n",
      "|[1100.0,980.0,10....| 99|\n",
      "|[1300.0,990.0,14....|101|\n",
      "|[1400.0,1109.0,2....| 90|\n",
      "|[1500.0,1112.0,0....| 98|\n",
      "|[1500.0,1140.0,12...|105|\n",
      "|[1500.0,1365.0,1....| 92|\n",
      "|[1500.0,1465.0,1....|102|\n",
      "|[1600.0,1119.0,2....|104|\n",
      "|[1600.0,1150.0,3....| 99|\n",
      "|[1600.0,1235.0,0....|104|\n",
      "|[1600.0,1252.0,8....| 94|\n",
      "|[1600.0,1326.0,9....| 97|\n",
      "|[1600.0,1330.0,5....| 97|\n",
      "|[1600.0,1365.0,4....| 99|\n",
      "|[1600.0,1405.0,5....|109|\n",
      "|[1600.0,1523.0,6....|109|\n",
      "+--------------------+---+\n",
      "only showing top 20 rows\n",
      "\n"
     ]
    }
   ],
   "source": [
    "train_data.show()"
   ]
  },
  {
   "cell_type": "code",
   "execution_count": 58,
   "metadata": {},
   "outputs": [
    {
     "name": "stdout",
     "output_type": "stream",
     "text": [
      "+--------------------+---+\n",
      "|            features|CO2|\n",
      "+--------------------+---+\n",
      "|[1000.0,929.0,2.0...| 95|\n",
      "|[1200.0,1160.0,13...| 95|\n",
      "|[1600.0,1390.0,4....|108|\n",
      "|[1600.0,1415.0,2....| 99|\n",
      "|[2000.0,1725.0,3....|114|\n",
      "|[2100.0,1365.0,1....| 99|\n",
      "|[2100.0,1605.0,1....|115|\n",
      "|[2500.0,1395.0,1....|120|\n",
      "+--------------------+---+\n",
      "\n"
     ]
    }
   ],
   "source": [
    "test_data.show()"
   ]
  },
  {
   "cell_type": "code",
   "execution_count": 59,
   "metadata": {},
   "outputs": [],
   "source": [
    "##import the pyspark linear regression\n",
    "from pyspark.ml.regression import LinearRegression"
   ]
  },
  {
   "cell_type": "code",
   "execution_count": 60,
   "metadata": {},
   "outputs": [],
   "source": [
    "lr = LinearRegression(featuresCol='features', labelCol='CO2')"
   ]
  },
  {
   "cell_type": "code",
   "execution_count": 61,
   "metadata": {},
   "outputs": [],
   "source": [
    "trained_model = lr.fit(train_data)"
   ]
  },
  {
   "cell_type": "code",
   "execution_count": 63,
   "metadata": {},
   "outputs": [
    {
     "data": {
      "text/plain": [
       "LinearRegressionModel: uid=LinearRegression_a64a8a95f431, numFeatures=4"
      ]
     },
     "execution_count": 63,
     "metadata": {},
     "output_type": "execute_result"
    }
   ],
   "source": [
    "trained_model"
   ]
  },
  {
   "cell_type": "raw",
   "metadata": {},
   "source": [
    "results = trained_model.evaluate(train_data)"
   ]
  },
  {
   "cell_type": "code",
   "execution_count": 68,
   "metadata": {},
   "outputs": [],
   "source": [
    "results = trained_model.evaluate(train_data)"
   ]
  },
  {
   "cell_type": "code",
   "execution_count": 69,
   "metadata": {},
   "outputs": [
    {
     "name": "stdout",
     "output_type": "stream",
     "text": [
      "0.3751113225281494\n"
     ]
    }
   ],
   "source": [
    "##The r2 (coefficeint of determination is less than 0.5 in this model) therefore we might want to use a different or bigger data\n",
    "print(results.r2)"
   ]
  },
  {
   "cell_type": "code",
   "execution_count": 70,
   "metadata": {},
   "outputs": [
    {
     "name": "stdout",
     "output_type": "stream",
     "text": [
      "25.174086721008848\n"
     ]
    }
   ],
   "source": [
    "print(results.meanSquaredError)"
   ]
  },
  {
   "cell_type": "code",
   "execution_count": 71,
   "metadata": {},
   "outputs": [
    {
     "name": "stdout",
     "output_type": "stream",
     "text": [
      "4.280712772912348\n"
     ]
    }
   ],
   "source": [
    "print(results.meanAbsoluteError)"
   ]
  },
  {
   "cell_type": "code",
   "execution_count": 72,
   "metadata": {},
   "outputs": [],
   "source": [
    "unlabeled_data = test_data.select('features')"
   ]
  },
  {
   "cell_type": "code",
   "execution_count": 73,
   "metadata": {},
   "outputs": [
    {
     "name": "stdout",
     "output_type": "stream",
     "text": [
      "+--------------------+\n",
      "|            features|\n",
      "+--------------------+\n",
      "|[1000.0,929.0,2.0...|\n",
      "|[1200.0,1160.0,13...|\n",
      "|[1600.0,1390.0,4....|\n",
      "|[1600.0,1415.0,2....|\n",
      "|[2000.0,1725.0,3....|\n",
      "|[2100.0,1365.0,1....|\n",
      "|[2100.0,1605.0,1....|\n",
      "|[2500.0,1395.0,1....|\n",
      "+--------------------+\n",
      "\n"
     ]
    }
   ],
   "source": [
    "unlabeled_data.show()"
   ]
  },
  {
   "cell_type": "code",
   "execution_count": 76,
   "metadata": {},
   "outputs": [],
   "source": [
    "predictions = trained_model.transform(unlabeled_data)"
   ]
  },
  {
   "cell_type": "code",
   "execution_count": 77,
   "metadata": {},
   "outputs": [
    {
     "name": "stdout",
     "output_type": "stream",
     "text": [
      "+--------------------+------------------+\n",
      "|            features|        prediction|\n",
      "+--------------------+------------------+\n",
      "|[1000.0,929.0,2.0...| 93.39008920526553|\n",
      "|[1200.0,1160.0,13...|102.99531693715284|\n",
      "|[1600.0,1390.0,4....|100.66242523026231|\n",
      "|[1600.0,1415.0,2....|102.21401511637279|\n",
      "|[2000.0,1725.0,3....| 106.2801049518824|\n",
      "|[2100.0,1365.0,1....|101.43122508101547|\n",
      "|[2100.0,1605.0,1....|104.96875297673243|\n",
      "|[2500.0,1395.0,1....|104.30296062602164|\n",
      "+--------------------+------------------+\n",
      "\n"
     ]
    }
   ],
   "source": [
    "predictions.show()"
   ]
  },
  {
   "cell_type": "code",
   "execution_count": null,
   "metadata": {},
   "outputs": [],
   "source": []
  }
 ],
 "metadata": {
  "kernelspec": {
   "display_name": "Python 3",
   "language": "python",
   "name": "python3"
  },
  "language_info": {
   "codemirror_mode": {
    "name": "ipython",
    "version": 3
   },
   "file_extension": ".py",
   "mimetype": "text/x-python",
   "name": "python",
   "nbconvert_exporter": "python",
   "pygments_lexer": "ipython3",
   "version": "3.8.5"
  }
 },
 "nbformat": 4,
 "nbformat_minor": 4
}
